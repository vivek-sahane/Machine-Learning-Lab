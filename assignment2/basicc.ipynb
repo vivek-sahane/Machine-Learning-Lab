{
 "cells": [
  {
   "cell_type": "code",
   "execution_count": 1,
   "id": "7a7ec138",
   "metadata": {},
   "outputs": [
    {
     "name": "stdout",
     "output_type": "stream",
     "text": [
      "📌 Linear Regression Equation:\n",
      "Salary = 9449.96 * YearsExperience + 25792.20\n",
      "\n",
      "📊 Error Metrics:\n",
      "1. Mean Absolute Error (MAE): 4644.20\n",
      "2. Mean Squared Error (MSE): 31270951.72\n",
      "3. Root Mean Squared Error (RMSE): 5592.04\n",
      "4. Median Absolute Error: 4017.93\n",
      "5. Mean Absolute Percentage Error (MAPE): 7.05%\n",
      "6. Max Error: 11448.03\n",
      "7. R² Score: 0.9570\n",
      "8. Explained Variance Score: 0.9570\n"
     ]
    }
   ],
   "source": [
    "import pandas as pd\n",
    "from sklearn.linear_model import LinearRegression\n",
    "from sklearn.metrics import (\n",
    "    mean_absolute_error, \n",
    "    mean_squared_error, \n",
    "    median_absolute_error, \n",
    "    mean_absolute_percentage_error, \n",
    "    r2_score, \n",
    "    explained_variance_score,\n",
    "    max_error\n",
    ")\n",
    "import numpy as np\n",
    "\n",
    "# Load the dataset\n",
    "df = pd.read_csv(\"Salary_Data.csv\")\n",
    "\n",
    "# Split into features and target\n",
    "X = df[['YearsExperience']]\n",
    "y = df['Salary']\n",
    "\n",
    "# Train the Linear Regression model\n",
    "model = LinearRegression()\n",
    "model.fit(X, y)\n",
    "\n",
    "# Predict\n",
    "y_pred = model.predict(X)\n",
    "\n",
    "# Calculate error metrics\n",
    "mae = mean_absolute_error(y, y_pred)\n",
    "mse = mean_squared_error(y, y_pred)\n",
    "rmse = np.sqrt(mse)\n",
    "r2 = r2_score(y, y_pred)\n",
    "medae = median_absolute_error(y, y_pred)\n",
    "mape = mean_absolute_percentage_error(y, y_pred)\n",
    "max_err = max_error(y, y_pred)\n",
    "evs = explained_variance_score(y, y_pred)\n",
    "\n",
    "# Display the results\n",
    "print(f\"📌 Linear Regression Equation:\")\n",
    "print(f\"Salary = {model.coef_[0]:.2f} * YearsExperience + {model.intercept_:.2f}\\n\")\n",
    "\n",
    "print(\"📊 Error Metrics:\")\n",
    "print(f\"1. Mean Absolute Error (MAE): {mae:.2f}\")\n",
    "print(f\"2. Mean Squared Error (MSE): {mse:.2f}\")\n",
    "print(f\"3. Root Mean Squared Error (RMSE): {rmse:.2f}\")\n",
    "print(f\"4. Median Absolute Error: {medae:.2f}\")\n",
    "print(f\"5. Mean Absolute Percentage Error (MAPE): {mape*100:.2f}%\")\n",
    "print(f\"6. Max Error: {max_err:.2f}\")\n",
    "print(f\"7. R² Score: {r2:.4f}\")\n",
    "print(f\"8. Explained Variance Score: {evs:.4f}\")"
   ]
  },
  {
   "cell_type": "code",
   "execution_count": null,
   "id": "bc5681de",
   "metadata": {},
   "outputs": [],
   "source": []
  }
 ],
 "metadata": {
  "kernelspec": {
   "display_name": "Python 3",
   "language": "python",
   "name": "python3"
  },
  "language_info": {
   "codemirror_mode": {
    "name": "ipython",
    "version": 3
   },
   "file_extension": ".py",
   "mimetype": "text/x-python",
   "name": "python",
   "nbconvert_exporter": "python",
   "pygments_lexer": "ipython3",
   "version": "3.11.0"
  }
 },
 "nbformat": 4,
 "nbformat_minor": 5
}
